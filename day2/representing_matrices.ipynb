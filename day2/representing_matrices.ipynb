{
 "cells": [
  {
   "cell_type": "markdown",
   "metadata": {},
   "source": [
    "# Matrices: Column View\n",
    "\n",
    "We can also think of matrices as a collection of vectors\n",
    "\n",
    "\\begin{equation}\n",
    "\\begin{bmatrix}\n",
    "\\begin{array}{rr{\\qquad}1}\n",
    "\\pmb{c_1} &\n",
    "\\pmb{c_2} \n",
    "\\end{array}\n",
    "\\end{bmatrix}\n",
    "\\pmb{x} =\n",
    "\\pmb{b}\n",
    "\\end{equation}\n",
    "\n",
    "In this view, we can think of finding the vector $\\pmb{x}$ consisting of the scalars $x_1$ and $x_2$ such that the weighted addition of the two vectors (columns of the matrix) on the LHS equals the vector on the RHS:\n",
    "\n",
    "\\begin{equation}\n",
    "x_1\\begin{bmatrix}\n",
    "\\begin{array}{r{\\quad}1}\n",
    "2\\\\ 4\n",
    "\\end{array}\n",
    "\\end{bmatrix} \n",
    "+ x_2\n",
    "\\begin{bmatrix}\n",
    "\\begin{array}{r{\\quad}1}\n",
    "4\\\\ 11\n",
    "\\end{array}\n",
    "\\end{bmatrix}=\n",
    "\\begin{bmatrix}\n",
    "\\begin{array}{r{\\quad}1}\n",
    "2 \\\\ 1\n",
    "\\end{array}\n",
    "\\end{bmatrix}\n",
    "\\end{equation}"
   ]
  },
  {
   "cell_type": "code",
   "execution_count": null,
   "metadata": {},
   "outputs": [],
   "source": [
    "%matplotlib inline"
   ]
  },
  {
   "cell_type": "code",
   "execution_count": null,
   "metadata": {},
   "outputs": [],
   "source": [
    "import sys\n",
    "sys.path.append(\"..\")\n",
    "from myla.plotting import *"
   ]
  },
  {
   "cell_type": "markdown",
   "metadata": {},
   "source": [
    "## Column View of Matrices\n",
    "\n",
    "We can think of this problem from a different perspective: from the perspective of the columns of \\textbf{A}. \n",
    "\n",
    "In this view, we can think of finding the scalars $x_1$ and $x_2$ such that the weighted addition of the two vectors (columns of the matrix) on the LHS equals the vector on the RHS:\n",
    "\n",
    "\\begin{equation}\n",
    "x_1\\begin{bmatrix}\n",
    "\\begin{array}{r{\\quad}1}\n",
    "2\\\\ 4\n",
    "\\end{array}\n",
    "\\end{bmatrix} \n",
    "+ x_2\n",
    "\\begin{bmatrix}\n",
    "\\begin{array}{r{\\quad}1}\n",
    "4\\\\ 11\n",
    "\\end{array}\n",
    "\\end{bmatrix}=\n",
    "\\begin{bmatrix}\n",
    "\\begin{array}{r{\\quad}1}\n",
    "2 \\\\ 1\n",
    "\\end{array}\n",
    "\\end{bmatrix}\n",
    "\\end{equation}\n",
    "\n",
    "From the previous notebook, we know that the solution to the systems of equations is $(x_1=3,x_2=-1)$. We can add vectors graphically by putting the tail of the second vector on the tip of the first vector. The first vector\n",
    "\n",
    "\\begin{equation}\n",
    "3\\begin{bmatrix}\n",
    "\\begin{array}{r{\\quad}1}\n",
    "2\\\\ 4\n",
    "\\end{array}\n",
    "\\end{bmatrix} =\n",
    "\\begin{bmatrix}\n",
    "\\begin{array}{r{\\quad}1}\n",
    "6\\\\ 12\n",
    "\\end{array}\n",
    "\\end{bmatrix}\n",
    "\\end{equation}\n",
    "\n",
    "is plotted in red and the second vector\n",
    "\n",
    "\\begin{equation}\n",
    "-1\\begin{bmatrix}\n",
    "\\begin{array}{r{\\quad}1}\n",
    "4\\\\ 11\n",
    "\\end{array}\n",
    "\\end{bmatrix} =\n",
    "\\begin{bmatrix}\n",
    "\\begin{array}{r{\\quad}1}\n",
    "-4\\\\ 11\n",
    "\\end{array}\n",
    "\\end{bmatrix}\n",
    "\\end{equation}\n",
    "is plotted in green."
   ]
  },
  {
   "cell_type": "markdown",
   "metadata": {},
   "source": [
    "We see that the green vector ends at $(2,1)$ which is the vector on the RHS. This can be verified by explicitly plotting the RHS vector in blue."
   ]
  },
  {
   "cell_type": "code",
   "execution_count": null,
   "metadata": {},
   "outputs": [],
   "source": [
    "draw_vectors(((0,0),(6,12),'r'),\n",
    "             ((6,12),(-4,-11),'g'),\n",
    "             ((0,0),(2,1),'b'))"
   ]
  },
  {
   "cell_type": "markdown",
   "metadata": {},
   "source": [
    "## Problem \n",
    "\n",
    "Representing a Matrix `M` as a list of columns, write a function that multiplies a vector `v` by a matrix `m`.\n",
    "\n",
    "Note that the Python representing of `m` will look like rows even though they are columns.\n",
    "\n",
    "```Python\n",
    "m = ((2,4),(4,11))\n",
    "```"
   ]
  },
  {
   "cell_type": "code",
   "execution_count": null,
   "metadata": {},
   "outputs": [],
   "source": [
    "from myla.becvector import *"
   ]
  },
  {
   "cell_type": "code",
   "execution_count": null,
   "metadata": {},
   "outputs": [],
   "source": [
    "def print_matrix(m, width=7):\n",
    "    for row in range(len(m[0])):                     \n",
    "        print(\"|\",\n",
    "              \" \".join([(\"%5.2f\"%m[col][row]).ljust(width) for col in range(len(m))]),\n",
    "             \"|\")"
   ]
  },
  {
   "cell_type": "code",
   "execution_count": null,
   "metadata": {},
   "outputs": [],
   "source": [
    "print_matrix([(2,4),(4,11)])"
   ]
  },
  {
   "cell_type": "code",
   "execution_count": null,
   "metadata": {},
   "outputs": [],
   "source": [
    "def m_x_v(m,v):\n",
    "    pass"
   ]
  },
  {
   "cell_type": "code",
   "execution_count": null,
   "metadata": {},
   "outputs": [],
   "source": [
    "print_vector(m_x_v(((2,4),(4,11)), (3,-1)))"
   ]
  },
  {
   "cell_type": "markdown",
   "metadata": {},
   "source": [
    "## Example: Rotation in the 2D Plane\n",
    "\n",
    "A rotation around the origin in the 2D plane by an angle $\\phi$ can be described by the matrix\n",
    "\n",
    "\\begin{equation}\n",
    "\\pmb{R}_{\\phi} = \n",
    "\\begin{bmatrix}\n",
    "\\begin{array}{rr{\\qquad}1}\n",
    "\\cos \\phi & -\\sin \\phi \\\\\n",
    "\\sin \\phi & \\cos \\phi \n",
    "\\end{array}\n",
    "\\end{bmatrix}\n",
    "\\end{equation}\n",
    "\n",
    "* Write a program `get_rot` that takes as an argument an angle expressed in either degrees or radians and returns the \n",
    "corresponding rotation matrix. The function should have a keyword argument indicating whether the angle is\n",
    "in degrees or radian. \n",
    "\n",
    "* Write a program `rotate_vec` that takes as arguments a 2D vector and an angle and returns the rotated vector.\n",
    "\n",
    "* Write a vector `v` and an angle `phi` and returns the angle `v` rotated by the angle `phi`.\n",
    "\n",
    "#### Hints \n",
    "* How is `phi` expressed? In Python how are `cos` and `sin` computed?\n"
   ]
  },
  {
   "cell_type": "code",
   "execution_count": null,
   "metadata": {},
   "outputs": [],
   "source": [
    "import math\n",
    "def get_rot(_phi, units=\"degrees\"):\n",
    "    pass\n",
    "def rotate_vec(v,phi, units=\"degrees\"):\n",
    "    pass"
   ]
  },
  {
   "cell_type": "code",
   "execution_count": null,
   "metadata": {},
   "outputs": [],
   "source": [
    "print_matrix(get_rot(45))"
   ]
  },
  {
   "cell_type": "code",
   "execution_count": null,
   "metadata": {},
   "outputs": [],
   "source": [
    "draw_vectors(((1,0),'r'),\n",
    "             (rotate_vec([1,0],-45),'g'))"
   ]
  },
  {
   "cell_type": "markdown",
   "metadata": {},
   "source": [
    "## Matrix-Matrix Multiplication\n",
    "\n",
    "We can also think of matrix-matrix multiplication in a column view manner.\n",
    "\n",
    "\\begin{equation}\n",
    "\\pmb{A}_{m,n} \\pmb{B}_{n,p}=\\pmb{C}_{m,p}\n",
    "\\end{equation}\n",
    "\n",
    "$\\pmb{A}$ consists of $n$ columns with dimension $m$; $\\pmb{B}$ consists of $p$ columns with dimension $n$; the resulting matrix $\\pmb{C}$ has $p$ columns of dimension $m$.\n",
    "\n",
    "Column $i$ in $\\pmb{C}$ is the result of multiplying the $i^{\\text{th}}$ vector in $\\pmb{B}$ by $\\pmb{A}$.\n",
    "\n",
    "\\begin{equation}\n",
    "    \\pmb{A}\n",
    "    \\begin{bmatrix}\n",
    "        \\begin{array}{rrrr{\\qquad}1}\n",
    "            \\pmb{b}_1 & \\pmb{b}_2 & \\cdots & \\pmb{b}_p\n",
    "        \\end{array}\n",
    "    \\end{bmatrix}\n",
    "=\n",
    "    \\begin{bmatrix}\n",
    "        \\begin{array}{rrrr{\\qquad}1}\n",
    "            (\\pmb{Ab}_1) & (\\pmb{Ab}_2) & \\cdots & (\\pmb{Ab}_p)\n",
    "        \\end{array}\n",
    "    \\end{bmatrix}\n",
    "\\end{equation}\n",
    " \n"
   ]
  },
  {
   "cell_type": "code",
   "execution_count": null,
   "metadata": {},
   "outputs": [],
   "source": [
    "from IPython.display import YouTubeVideo"
   ]
  },
  {
   "cell_type": "code",
   "execution_count": null,
   "metadata": {},
   "outputs": [],
   "source": [
    "YouTubeVideo(\"FX4C-JpTFgY\", start=380, end=608)"
   ]
  },
  {
   "cell_type": "markdown",
   "metadata": {},
   "source": [
    "## Problem:\n",
    "#### Looking at a Matrix as a collection of vectors, write a function that computes matrix multiplication column-wise"
   ]
  },
  {
   "cell_type": "code",
   "execution_count": null,
   "metadata": {},
   "outputs": [],
   "source": [
    "def m_x_m(A, B):\n",
    "    pass\n"
   ]
  },
  {
   "cell_type": "code",
   "execution_count": null,
   "metadata": {},
   "outputs": [],
   "source": [
    "A = [[11,-15],[-15,29]]\n",
    "print_matrix(A)"
   ]
  },
  {
   "cell_type": "code",
   "execution_count": null,
   "metadata": {},
   "outputs": [],
   "source": [
    "print_matrix(m_x_m(A,A))"
   ]
  },
  {
   "cell_type": "code",
   "execution_count": null,
   "metadata": {},
   "outputs": [],
   "source": []
  }
 ],
 "metadata": {
  "@webio": {
   "lastCommId": null,
   "lastKernelId": null
  },
  "kernelspec": {
   "display_name": "Python 3",
   "language": "python",
   "name": "python3"
  },
  "language_info": {
   "codemirror_mode": {
    "name": "ipython",
    "version": 3
   },
   "file_extension": ".py",
   "mimetype": "text/x-python",
   "name": "python",
   "nbconvert_exporter": "python",
   "pygments_lexer": "ipython3",
   "version": "3.7.2"
  },
  "latex_envs": {
   "LaTeX_envs_menu_present": true,
   "autoclose": false,
   "autocomplete": true,
   "bibliofile": "biblio.bib",
   "cite_by": "apalike",
   "current_citInitial": 1,
   "eqLabelWithNumbers": true,
   "eqNumInitial": 1,
   "hotkeys": {
    "equation": "Ctrl-E",
    "itemize": "Ctrl-I"
   },
   "labels_anchors": false,
   "latex_user_defs": false,
   "report_style_numbering": false,
   "user_envs_cfg": false
  }
 },
 "nbformat": 4,
 "nbformat_minor": 2
}
